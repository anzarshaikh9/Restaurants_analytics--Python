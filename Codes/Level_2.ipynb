{
 "cells": [
  {
   "cell_type": "markdown",
   "id": "a1403f47-deb1-4e41-ba84-4c9db6316606",
   "metadata": {},
   "source": [
    "<h1 align=\"center\">Restaurants Analytics</h1>\n",
    "\n",
    "<br>"
   ]
  },
  {
   "cell_type": "markdown",
   "id": "b5a8a143-8019-4080-bac8-8866d32331d0",
   "metadata": {},
   "source": [
    "Importing essential libraries and loading the data"
   ]
  },
  {
   "cell_type": "code",
   "execution_count": 1,
   "id": "cd3a4635-ae89-45f6-947d-9ce24dc22777",
   "metadata": {},
   "outputs": [],
   "source": [
    "import numpy as np\n",
    "import pandas as pd\n",
    "import matplotlib.pyplot as plt\n",
    "import seaborn as sns"
   ]
  },
  {
   "cell_type": "code",
   "execution_count": 2,
   "id": "c39f4296-e53e-4ace-9ebd-7841c82b0f4b",
   "metadata": {},
   "outputs": [],
   "source": [
    "df = pd.read_csv('Dataset.csv')"
   ]
  },
  {
   "cell_type": "code",
   "execution_count": 3,
   "id": "d47f10e1-e9fe-4245-908a-d981b613388d",
   "metadata": {},
   "outputs": [],
   "source": [
    "df = df.dropna().reset_index(drop=True)"
   ]
  },
  {
   "cell_type": "markdown",
   "id": "edc3c150-5fc9-45ff-b3a9-50348b6a4d4c",
   "metadata": {},
   "source": [
    "<br>\n",
    "\n",
    "## Level 2"
   ]
  },
  {
   "cell_type": "markdown",
   "id": "f6397938-1ffa-471a-87b7-844779a149a0",
   "metadata": {},
   "source": [
    "### Task 1: Table Booking and Online Delivery"
   ]
  },
  {
   "cell_type": "code",
   "execution_count": 4,
   "id": "591668cb-8ccc-47a9-bdbd-b65d647b9598",
   "metadata": {},
   "outputs": [
    {
     "name": "stdout",
     "output_type": "stream",
     "text": [
      "Percentage of restaurants that offer table booking: 12.14%\n",
      "Percentage of restaurants that offer online delivery: 25.69%\n",
      "\n",
      "\n"
     ]
    }
   ],
   "source": [
    "percent_table_booking = ((df[df['Has Table booking']=='Yes'].shape[0])/len(df))*100\n",
    "percent_online_delivery = ((df[df['Has Online delivery']=='Yes'].shape[0])/len(df))*100\n",
    "\n",
    "print('Percentage of restaurants that offer table booking:', f'{percent_table_booking:.2f}%')\n",
    "print('Percentage of restaurants that offer online delivery:', f'{percent_online_delivery:.2f}%')\n",
    "print('\\n')"
   ]
  },
  {
   "cell_type": "code",
   "execution_count": 5,
   "id": "203e3a6b-9f73-44ef-af89-80b54436be56",
   "metadata": {},
   "outputs": [
    {
     "data": {
      "text/plain": [
       "Has Table booking\n",
       "No     2.6\n",
       "Yes    3.4\n",
       "Name: Aggregate rating, dtype: float64"
      ]
     },
     "execution_count": 5,
     "metadata": {},
     "output_type": "execute_result"
    }
   ],
   "source": [
    "df.groupby('Has Table booking')['Aggregate rating'].mean().round(1)"
   ]
  },
  {
   "cell_type": "code",
   "execution_count": 6,
   "id": "4b825ba0-bde1-4d0c-a7ba-a9d406a7a082",
   "metadata": {},
   "outputs": [
    {
     "data": {
      "text/plain": [
       "Text(0.5, 1.0, 'Availability of Online Delivery by Price Range')"
      ]
     },
     "execution_count": 6,
     "metadata": {},
     "output_type": "execute_result"
    },
    {
     "data": {
      "image/png": "[encoded data removed]",
      "text/plain": [
       "<Figure size 640x480 with 1 Axes>"
      ]
     },
     "metadata": {},
     "output_type": "display_data"
    }
   ],
   "source": [
    "online_delivery = (df[df['Has Online delivery']=='Yes']).groupby('Price range')['Price range'].value_counts()\n",
    "\n",
    "plt.pie(online_delivery, labels=online_delivery.index, autopct='%1.1f%%')\n",
    "plt.title('Availability of Online Delivery by Price Range')"
   ]
  },
  {
   "cell_type": "markdown",
   "id": "5661df63-176f-41c1-8a0f-7ead018d1870",
   "metadata": {},
   "source": [
    "<br>\n",
    "\n",
    "### Task 2: Price Range Analysis"
   ]
  },
  {
   "cell_type": "code",
   "execution_count": 7,
   "id": "3630f9bd-f899-499e-9522-038cf9d934b4",
   "metadata": {},
   "outputs": [
    {
     "name": "stdout",
     "output_type": "stream",
     "text": [
      "Price range\n",
      "1    4438\n",
      "2    3113\n",
      "3    1405\n",
      "4     586\n",
      "Name: count, dtype: int64\n",
      "\n",
      "\n",
      "Most common price range among all the restaurants is 1\n",
      "\n",
      "\n"
     ]
    }
   ],
   "source": [
    "price_range = df['Price range'].value_counts().sort_values(ascending=False)\n",
    "\n",
    "print(price_range)\n",
    "print('\\n')\n",
    "print('Most common price range among all the restaurants is', price_range.idxmax())\n",
    "print('\\n')"
   ]
  },
  {
   "cell_type": "code",
   "execution_count": 8,
   "id": "6d7cf681-955c-403c-8b12-625cdacbec77",
   "metadata": {},
   "outputs": [
    {
     "data": {
      "text/plain": [
       "Price range\n",
       "4    3.8\n",
       "3    3.7\n",
       "2    2.9\n",
       "1    2.0\n",
       "Name: Aggregate rating, dtype: float64"
      ]
     },
     "execution_count": 8,
     "metadata": {},
     "output_type": "execute_result"
    }
   ],
   "source": [
    "avg_rating = df.groupby('Price range')['Aggregate rating'].mean().round(1).sort_values(ascending=False)\n",
    "avg_rating"
   ]
  },
  {
   "cell_type": "code",
   "execution_count": 9,
   "id": "98f992ff-5e1b-45d8-89c6-d80991bc360e",
   "metadata": {},
   "outputs": [
    {
     "name": "stdout",
     "output_type": "stream",
     "text": [
      "The color that represents the highest average rating among different price ranges is Yellow\n"
     ]
    }
   ],
   "source": [
    "highest_rating_color = df[df['Aggregate rating'] == avg_rating.unique()[0]]['Rating color'].unique()[0]\n",
    "\n",
    "print('The color that represents the highest average rating among different price ranges is', highest_rating_color)"
   ]
  },
  {
   "cell_type": "markdown",
   "id": "9f3a6b23-92de-4f45-8b1e-7de7449f4655",
   "metadata": {},
   "source": [
    "<br>\n",
    "\n",
    "### Task 3: Feature Engineering"
   ]
  },
  {
   "cell_type": "code",
   "execution_count": 10,
   "id": "4313d6b4-9045-481f-b8bf-aaa9815eaa26",
   "metadata": {},
   "outputs": [],
   "source": [
    "df['Restaurant Name Length'] = df['Restaurant Name'].str.len()\n",
    "df['Address Length'] = df['Address'].str.len()"
   ]
  },
  {
   "cell_type": "code",
   "execution_count": 11,
   "id": "b5c13f3f-92e9-457b-a27c-f9ee8520f958",
   "metadata": {},
   "outputs": [
    {
     "data": {
      "text/html": [
       "<div>\n",
       "<style scoped>\n",
       "    .dataframe tbody tr th:only-of-type {\n",
       "        vertical-align: middle;\n",
       "    }\n",
       "\n",
       "    .dataframe tbody tr th {\n",
       "        vertical-align: top;\n",
       "    }\n",
       "\n",
       "    .dataframe thead th {\n",
       "        text-align: right;\n",
       "    }\n",
       "</style>\n",
       "<table border=\"1\" class=\"dataframe\">\n",
       "  <thead>\n",
       "    <tr style=\"text-align: right;\">\n",
       "      <th></th>\n",
       "      <th>Restaurant Name</th>\n",
       "      <th>Restaurant Name Length</th>\n",
       "      <th>Address</th>\n",
       "      <th>Address Length</th>\n",
       "    </tr>\n",
       "  </thead>\n",
       "  <tbody>\n",
       "    <tr>\n",
       "      <th>0</th>\n",
       "      <td>Le Petit Souffle</td>\n",
       "      <td>16</td>\n",
       "      <td>Third Floor, Century City Mall, Kalayaan Avenu...</td>\n",
       "      <td>71</td>\n",
       "    </tr>\n",
       "    <tr>\n",
       "      <th>1</th>\n",
       "      <td>Izakaya Kikufuji</td>\n",
       "      <td>16</td>\n",
       "      <td>Little Tokyo, 2277 Chino Roces Avenue, Legaspi...</td>\n",
       "      <td>67</td>\n",
       "    </tr>\n",
       "    <tr>\n",
       "      <th>2</th>\n",
       "      <td>Heat - Edsa Shangri-La</td>\n",
       "      <td>22</td>\n",
       "      <td>Edsa Shangri-La, 1 Garden Way, Ortigas, Mandal...</td>\n",
       "      <td>56</td>\n",
       "    </tr>\n",
       "    <tr>\n",
       "      <th>3</th>\n",
       "      <td>Ooma</td>\n",
       "      <td>4</td>\n",
       "      <td>Third Floor, Mega Fashion Hall, SM Megamall, O...</td>\n",
       "      <td>70</td>\n",
       "    </tr>\n",
       "    <tr>\n",
       "      <th>4</th>\n",
       "      <td>Sambo Kojin</td>\n",
       "      <td>11</td>\n",
       "      <td>Third Floor, Mega Atrium, SM Megamall, Ortigas...</td>\n",
       "      <td>64</td>\n",
       "    </tr>\n",
       "  </tbody>\n",
       "</table>\n",
       "</div>"
      ],
      "text/plain": [
       "          Restaurant Name  Restaurant Name Length  \\\n",
       "0        Le Petit Souffle                      16   \n",
       "1        Izakaya Kikufuji                      16   \n",
       "2  Heat - Edsa Shangri-La                      22   \n",
       "3                    Ooma                       4   \n",
       "4             Sambo Kojin                      11   \n",
       "\n",
       "                                             Address  Address Length  \n",
       "0  Third Floor, Century City Mall, Kalayaan Avenu...              71  \n",
       "1  Little Tokyo, 2277 Chino Roces Avenue, Legaspi...              67  \n",
       "2  Edsa Shangri-La, 1 Garden Way, Ortigas, Mandal...              56  \n",
       "3  Third Floor, Mega Fashion Hall, SM Megamall, O...              70  \n",
       "4  Third Floor, Mega Atrium, SM Megamall, Ortigas...              64  "
      ]
     },
     "execution_count": 11,
     "metadata": {},
     "output_type": "execute_result"
    }
   ],
   "source": [
    "df[['Restaurant Name','Restaurant Name Length','Address','Address Length']].head()"
   ]
  },
  {
   "cell_type": "code",
   "execution_count": 12,
   "id": "f57f9703-d1bd-4c1f-8b3a-55263f8d9159",
   "metadata": {},
   "outputs": [],
   "source": [
    "df['Has Fast Food'] = df['Cuisines'].apply(lambda x: 'Yes' if 'Fast Food' in x else 'No')"
   ]
  },
  {
   "cell_type": "code",
   "execution_count": 13,
   "id": "1964a961-a089-4766-98f8-25a5796ce721",
   "metadata": {},
   "outputs": [
    {
     "data": {
      "text/html": [
       "<div>\n",
       "<style scoped>\n",
       "    .dataframe tbody tr th:only-of-type {\n",
       "        vertical-align: middle;\n",
       "    }\n",
       "\n",
       "    .dataframe tbody tr th {\n",
       "        vertical-align: top;\n",
       "    }\n",
       "\n",
       "    .dataframe thead th {\n",
       "        text-align: right;\n",
       "    }\n",
       "</style>\n",
       "<table border=\"1\" class=\"dataframe\">\n",
       "  <thead>\n",
       "    <tr style=\"text-align: right;\">\n",
       "      <th></th>\n",
       "      <th>Cuisines</th>\n",
       "      <th>Has Fast Food</th>\n",
       "    </tr>\n",
       "  </thead>\n",
       "  <tbody>\n",
       "    <tr>\n",
       "      <th>0</th>\n",
       "      <td>French, Japanese, Desserts</td>\n",
       "      <td>No</td>\n",
       "    </tr>\n",
       "    <tr>\n",
       "      <th>1</th>\n",
       "      <td>Japanese</td>\n",
       "      <td>No</td>\n",
       "    </tr>\n",
       "    <tr>\n",
       "      <th>2</th>\n",
       "      <td>Seafood, Asian, Filipino, Indian</td>\n",
       "      <td>No</td>\n",
       "    </tr>\n",
       "    <tr>\n",
       "      <th>3</th>\n",
       "      <td>Japanese, Sushi</td>\n",
       "      <td>No</td>\n",
       "    </tr>\n",
       "    <tr>\n",
       "      <th>4</th>\n",
       "      <td>Japanese, Korean</td>\n",
       "      <td>No</td>\n",
       "    </tr>\n",
       "  </tbody>\n",
       "</table>\n",
       "</div>"
      ],
      "text/plain": [
       "                           Cuisines Has Fast Food\n",
       "0        French, Japanese, Desserts            No\n",
       "1                          Japanese            No\n",
       "2  Seafood, Asian, Filipino, Indian            No\n",
       "3                   Japanese, Sushi            No\n",
       "4                  Japanese, Korean            No"
      ]
     },
     "execution_count": 13,
     "metadata": {},
     "output_type": "execute_result"
    }
   ],
   "source": [
    "df[['Cuisines', 'Has Fast Food']].head()"
   ]
  },
  {
   "cell_type": "markdown",
   "id": "8f6ca3b7-90e1-4a04-9f82-34059850848a",
   "metadata": {},
   "source": [
    "<br>\n",
    "Created new feature for fast food cuisine"
   ]
  }
 ],
 "metadata": {
  "kernelspec": {
   "display_name": "Python 3 (ipykernel)",
   "language": "python",
   "name": "python3"
  },
  "language_info": {
   "codemirror_mode": {
    "name": "ipython",
    "version": 3
   },
   "file_extension": ".py",
   "mimetype": "text/x-python",
   "name": "python",
   "nbconvert_exporter": "python",
   "pygments_lexer": "ipython3",
   "version": "3.12.4"
  }
 },
 "nbformat": 4,
 "nbformat_minor": 5
}
